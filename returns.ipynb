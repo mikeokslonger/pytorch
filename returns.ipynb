{
 "cells": [
  {
   "cell_type": "code",
   "execution_count": 1,
   "metadata": {},
   "outputs": [],
   "source": [
    "from functools import reduce\n",
    "from dask import delayed\n",
    "from ipywidgets import interact, SelectionSlider\n",
    "from plotly import offline as plotly\n",
    "import plotly.graph_objs as go\n",
    "import pandas as pd\n",
    "import fastparquet\n",
    "import distributed\n",
    "import dask\n",
    "import json\n",
    "import gzip\n",
    "import os"
   ]
  },
  {
   "cell_type": "code",
   "execution_count": 2,
   "metadata": {},
   "outputs": [],
   "source": [
    "BASE_PATH = '/home/mikeokslonger/data_unseen/trades.parquet/pair={}'\n",
    "OUTPUT_DIRECTORY = '/home/mikeokslonger/data_unseen'"
   ]
  },
  {
   "cell_type": "code",
   "execution_count": 3,
   "metadata": {
    "scrolled": true
   },
   "outputs": [
    {
     "data": {
      "text/html": [
       "<script>requirejs.config({paths: { 'plotly': ['https://cdn.plot.ly/plotly-latest.min']},});if(!window.Plotly) {{require(['plotly'],function(plotly) {window.Plotly=plotly;});}}</script>"
      ],
      "text/vnd.plotly.v1+html": [
       "<script>requirejs.config({paths: { 'plotly': ['https://cdn.plot.ly/plotly-latest.min']},});if(!window.Plotly) {{require(['plotly'],function(plotly) {window.Plotly=plotly;});}}</script>"
      ]
     },
     "metadata": {},
     "output_type": "display_data"
    },
    {
     "data": {
      "application/vnd.jupyter.widget-view+json": {
       "model_id": "9d81e2eefb984c8ca34982e17f687b1b",
       "version_major": 2,
       "version_minor": 0
      },
      "text/plain": [
       "VBox(children=(HTML(value='<h2>LocalCluster</h2>'), HBox(children=(HTML(value='\\n<div>\\n  <style scoped>\\n    …"
      ]
     },
     "metadata": {},
     "output_type": "display_data"
    }
   ],
   "source": [
    "plotly.init_notebook_mode(connected=True)\n",
    "cluster = distributed.LocalCluster()\n",
    "client = distributed.Client(cluster)\n",
    "cluster"
   ]
  },
  {
   "cell_type": "code",
   "execution_count": null,
   "metadata": {},
   "outputs": [],
   "source": []
  },
  {
   "cell_type": "code",
   "execution_count": 4,
   "metadata": {},
   "outputs": [],
   "source": [
    "def all_pairs():\n",
    "    dirs = !ls /home/mikeokslonger/data_unseen/trades.parquet/ | grep pair\n",
    "    pairs = [p.split('=')[1] for p in dirs]\n",
    "    return pairs\n",
    "\n",
    "def all_parts_for_pair(pair):\n",
    "    paths = [os.path.join(BASE_PATH.format(pair), p, 'part.0.parquet') for p in os.listdir(BASE_PATH.format('ADX-USD'))]\n",
    "    existing_paths = [path for path in paths if os.path.exists(path)]\n",
    "    return existing_paths\n",
    "\n",
    "def read_pair(pair, columns=None):\n",
    "    all_paths = all_parts_for_pair(pair)\n",
    "    df = pd.concat([pd.read_parquet(p, columns=columns) for p in all_paths]).sort_values('timestamp')\n",
    "    return df.reset_index().drop('index', axis=1).assign(pair=pair)\n",
    "\n",
    "def create_returns_series(pair, write=True):\n",
    "    df = read_pair(pair)\n",
    "    df['relative_returns'] = (df.price - df.price.shift(1)) / df.price\n",
    "    df['relative_returns_int16'] = (df.relative_returns * (2**14)).fillna(0).astype('int16')\n",
    "    df['normalized_relative_returns'] = (df['price'] - df['price'].mean()) / df.price.std()\n",
    "    if write:\n",
    "        fastparquet.write(f'{OUTPUT_DIRECTORY}/returns.parquet',\n",
    "                          df, compression='snappy', file_scheme='hive',\n",
    "                          partition_on=['pair'], write_index=False)\n",
    "    else:\n",
    "        return df"
   ]
  },
  {
   "cell_type": "code",
   "execution_count": 5,
   "metadata": {
    "scrolled": true
   },
   "outputs": [
    {
     "data": {
      "application/vnd.jupyter.widget-view+json": {
       "model_id": "bd965e29d1784641bdb9e9f65d0dab78",
       "version_major": 2,
       "version_minor": 0
      },
      "text/plain": [
       "interactive(children=(SelectionSlider(description='pair', options=('ADX-USD', 'AIR-USD', 'AMM-USD', 'ATB-USD',…"
      ]
     },
     "metadata": {},
     "output_type": "display_data"
    }
   ],
   "source": [
    "pairs = all_pairs()\n",
    "@interact(pair=SelectionSlider(options=pairs))\n",
    "def plot(pair):\n",
    "    df = read_pair(pair, ['timestamp', 'price']).set_index('timestamp').resample('500S').first().dropna()\n",
    "    df['returns'] = (df.price - df.price.shift(1)) / df.price\n",
    "    df['normalized_returns'] = (df['price'] - df['price'].mean()) / df.price.std()\n",
    "    plotly.iplot([go.Scatter(x=df.index, y=df.price, name='price'),\n",
    "                  go.Scatter(x=df.index, y=df.returns, name='returns'),\n",
    "                  go.Scatter(x=df.index, y=df.normalized_returns, name='normalized_returns')])"
   ]
  },
  {
   "cell_type": "code",
   "execution_count": 7,
   "metadata": {},
   "outputs": [
    {
     "data": {
      "application/vnd.jupyter.widget-view+json": {
       "model_id": "5e61250ccfca436c925f1a374c9c82bb",
       "version_major": 2,
       "version_minor": 0
      },
      "text/plain": [
       "interactive(children=(SelectionSlider(description='pair', options=('ADX-USD', 'AIR-USD', 'AMM-USD', 'ATB-USD',…"
      ]
     },
     "metadata": {},
     "output_type": "display_data"
    }
   ],
   "source": [
    "@interact(pair=SelectionSlider(options=pairs))\n",
    "def show_returns_series(pair):\n",
    "    return create_returns_series(pair, False)[:20]"
   ]
  },
  {
   "cell_type": "code",
   "execution_count": 7,
   "metadata": {},
   "outputs": [
    {
     "data": {
      "application/vnd.jupyter.widget-view+json": {
       "model_id": "4d1e05380c094461a2d03b57a976570a",
       "version_major": 2,
       "version_minor": 0
      },
      "text/plain": [
       "VBox()"
      ]
     },
     "metadata": {},
     "output_type": "display_data"
    }
   ],
   "source": [
    "### Write Returns Series\n",
    "tasks = [delayed(create_returns_series)(pair) for pair in pairs]\n",
    "futures = client.compute(tasks)\n",
    "distributed.progress(futures)"
   ]
  },
  {
   "cell_type": "code",
   "execution_count": null,
   "metadata": {},
   "outputs": [],
   "source": []
  }
 ],
 "metadata": {
  "kernelspec": {
   "display_name": "Python 3",
   "language": "python",
   "name": "python3"
  },
  "language_info": {
   "codemirror_mode": {
    "name": "ipython",
    "version": 3
   },
   "file_extension": ".py",
   "mimetype": "text/x-python",
   "name": "python",
   "nbconvert_exporter": "python",
   "pygments_lexer": "ipython3",
   "version": "3.6.5"
  }
 },
 "nbformat": 4,
 "nbformat_minor": 2
}
