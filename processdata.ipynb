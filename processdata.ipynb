{
 "cells": [
  {
   "cell_type": "code",
   "execution_count": 1,
   "metadata": {},
   "outputs": [],
   "source": [
    "from functools import reduce\n",
    "from dask import delayed\n",
    "import pandas as pd\n",
    "import fastparquet\n",
    "import distributed\n",
    "import dask\n",
    "import json\n",
    "import gzip\n",
    "import os"
   ]
  },
  {
   "cell_type": "code",
   "execution_count": 2,
   "metadata": {
    "scrolled": false
   },
   "outputs": [
    {
     "data": {
      "application/vnd.jupyter.widget-view+json": {
       "model_id": "7d3efcb8f00a4a73bebb7fb0d8a29ed9",
       "version_major": 2,
       "version_minor": 0
      },
      "text/plain": [
       "VBox(children=(HTML(value='<h2>LocalCluster</h2>'), HBox(children=(HTML(value='\\n<div>\\n  <style scoped>\\n    …"
      ]
     },
     "metadata": {},
     "output_type": "display_data"
    }
   ],
   "source": [
    "cluster = distributed.LocalCluster()\n",
    "client = distributed.Client(cluster)\n",
    "cluster"
   ]
  },
  {
   "cell_type": "code",
   "execution_count": 13,
   "metadata": {},
   "outputs": [],
   "source": [
    "OUTPUT_DIRECTORY = '/home/mikeokslonger/data_unseen'"
   ]
  },
  {
   "cell_type": "code",
   "execution_count": 14,
   "metadata": {},
   "outputs": [],
   "source": [
    "def batch(l, n):\n",
    "    return [list(l[i:i+n]) for i in range(0, len(l), n)]\n",
    "\n",
    "def read_json_gz(path):\n",
    "    return json.load(gzip.GzipFile(path))\n",
    "\n",
    "def get_pairs(path):\n",
    "    if type(path) == list:\n",
    "        return reduce(lambda a, b: a.union(get_pairs(b)), list(path), set())\n",
    "    return set(read_json_gz(path).keys())\n",
    "\n",
    "def get_trades(paths):\n",
    "    def __get_trade_df__(trades):\n",
    "        df = pd.DataFrame(trades)\n",
    "        df['id'] = df['id'].astype(int)\n",
    "        df['price'] = df['price'].astype(float)\n",
    "        df['quantity'] = df['quantity'].astype(float)\n",
    "        df['buy'] = df['side'] == 'buy'\n",
    "        df['timestamp'] = pd.to_datetime(df['timestamp'])\n",
    "        del df['side']\n",
    "        return df\n",
    "        \n",
    "    def __get_trades__(path):\n",
    "        doc = read_json_gz(path)\n",
    "        date = int(path.split('/')[-2].replace('-', ''))\n",
    "        name = int(''.join(path.split('/')[-2:]).replace('-', '').split('.')[0])\n",
    "        pairs_no_error = [p for p in list(doc.keys()) if 'error' not in doc.get(p, {}).get('trades', {})]\n",
    "        pairs_with_data = [p for p in pairs_no_error if len(doc.get(p, {}).get('trades', [])) > 0]\n",
    "        dfs = [__get_trade_df__(doc[pair]['trades']).assign(pair=pair.replace('/', '-')).assign(time=name).assign(date=date)\n",
    "               for pair in pairs_with_data]\n",
    "        if dfs:\n",
    "            return pd.concat(dfs)\n",
    "    \n",
    "    trade_dfs = [__get_trades__(p) for p in paths]\n",
    "    if trade_dfs:\n",
    "        df = pd.concat(trade_dfs).reset_index().drop('index', axis=1)\n",
    "        fastparquet.write(f'{OUTPUT_DIRECTORY}/trades.parquet',\n",
    "                          df, compression='snappy', file_scheme='hive',\n",
    "                          partition_on=['pair', 'date'], write_index=False)\n",
    "\n",
    "def get_orderbooks(paths):\n",
    "    def __get_orderbook__(orderbooks):\n",
    "        if 'ask' in orderbooks and 'bid' in orderbooks:\n",
    "            asks = (orderbooks['ask'] + 10 * [{'price': 0.0, 'size': 0.0}])[:10]\n",
    "            bids = (orderbooks['bid'] + 10 * [{'price': 0.0, 'size': 0.0}])[:10]\n",
    "            return pd.DataFrame({'askprice': pd.to_numeric([d['price'] for d in asks]),\n",
    "                                 'asksize': pd.to_numeric([d['size'] for d in asks]),\n",
    "                                 'bidprice': pd.to_numeric([d['price'] for d in bids]),\n",
    "                                 'bidsize': pd.to_numeric([d['size'] for d in bids])})\n",
    "        return pd.DataFrame({'askprice': [], 'asksize': [], 'bidprice': [], 'bidsize': []})\n",
    "\n",
    "    def __get_orderbooks__(path):\n",
    "        doc = read_json_gz(path)\n",
    "        date = int(path.split('/')[-2].replace('-', ''))\n",
    "        name = int(''.join(path.split('/')[-2:]).replace('-', '').split('.')[0])\n",
    "        dfs = [__get_orderbook__(doc[pair]['orderbook']).assign(pair=pair.replace('/', '-')).assign(time=name).assign(date=date)\n",
    "               for pair in list(doc.keys())]\n",
    "        df = pd.concat(dfs)\n",
    "        return df\n",
    "    \n",
    "    df = pd.concat([__get_orderbooks__(p) for p in paths]).reset_index().drop('index', axis=1)\n",
    "    fastparquet.write(f'{OUTPUT_DIRECTORY}/orderbooks.parquet',\n",
    "                      df, compression='snappy', file_scheme='hive',\n",
    "                      partition_on=['pair', 'date'], write_index=False)"
   ]
  },
  {
   "cell_type": "code",
   "execution_count": null,
   "metadata": {},
   "outputs": [],
   "source": []
  },
  {
   "cell_type": "code",
   "execution_count": 53,
   "metadata": {},
   "outputs": [],
   "source": [
    "get_trades(paths_by_date[4])"
   ]
  },
  {
   "cell_type": "code",
   "execution_count": 37,
   "metadata": {},
   "outputs": [],
   "source": [
    "df = __get_trades__(paths_by_date[4][5])"
   ]
  },
  {
   "cell_type": "code",
   "execution_count": null,
   "metadata": {},
   "outputs": [],
   "source": []
  },
  {
   "cell_type": "code",
   "execution_count": 9,
   "metadata": {},
   "outputs": [],
   "source": [
    "data_paths = !find /home/mikeokslonger/hitbtc/ | grep json\n",
    "paths_df = pd.DataFrame(data_paths, columns=['path'])\n",
    "paths_df['directory'] = paths_df['path'].apply(lambda x: os.path.dirname(x))\n",
    "paths_df['filename'] = paths_df['path'].apply(lambda x: os.path.basename(x))\n",
    "paths_by_date = [list(df.path.values) for _, df in paths_df.groupby('directory')][13:]"
   ]
  },
  {
   "cell_type": "code",
   "execution_count": null,
   "metadata": {},
   "outputs": [],
   "source": []
  },
  {
   "cell_type": "code",
   "execution_count": 10,
   "metadata": {
    "scrolled": true
   },
   "outputs": [
    {
     "data": {
      "application/vnd.jupyter.widget-view+json": {
       "model_id": "2d31dbfaab3c4d6f9276b54ec0c1f931",
       "version_major": 2,
       "version_minor": 0
      },
      "text/plain": [
       "VBox()"
      ]
     },
     "metadata": {},
     "output_type": "display_data"
    }
   ],
   "source": [
    "### orderbooks\n",
    "tasks = [delayed(get_orderbooks)(paths) for paths in paths_by_date]\n",
    "futures = client.compute(tasks)\n",
    "distributed.progress(futures)"
   ]
  },
  {
   "cell_type": "code",
   "execution_count": 15,
   "metadata": {},
   "outputs": [
    {
     "data": {
      "application/vnd.jupyter.widget-view+json": {
       "model_id": "ed15c82ede38441f80d3052266d3b4b3",
       "version_major": 2,
       "version_minor": 0
      },
      "text/plain": [
       "VBox()"
      ]
     },
     "metadata": {},
     "output_type": "display_data"
    }
   ],
   "source": [
    "### trades\n",
    "tasks = [delayed(get_trades)(paths) for paths in paths_by_date]\n",
    "futures = client.compute(tasks)\n",
    "distributed.progress(futures)"
   ]
  },
  {
   "cell_type": "code",
   "execution_count": 57,
   "metadata": {},
   "outputs": [
    {
     "data": {
      "text/plain": [
       "ValueError('No objects to concatenate')"
      ]
     },
     "execution_count": 57,
     "metadata": {},
     "output_type": "execute_result"
    }
   ],
   "source": []
  },
  {
   "cell_type": "code",
   "execution_count": null,
   "metadata": {},
   "outputs": [],
   "source": []
  }
 ],
 "metadata": {
  "kernelspec": {
   "display_name": "Python 3",
   "language": "python",
   "name": "python3"
  },
  "language_info": {
   "codemirror_mode": {
    "name": "ipython",
    "version": 3
   },
   "file_extension": ".py",
   "mimetype": "text/x-python",
   "name": "python",
   "nbconvert_exporter": "python",
   "pygments_lexer": "ipython3",
   "version": "3.6.5"
  }
 },
 "nbformat": 4,
 "nbformat_minor": 2
}
