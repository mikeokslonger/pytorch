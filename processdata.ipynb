{
 "cells": [
  {
   "cell_type": "code",
   "execution_count": 1,
   "metadata": {},
   "outputs": [
    {
     "name": "stderr",
     "output_type": "stream",
     "text": [
      "/home/ec2-user/anaconda3/envs/pytorch_p36/lib/python3.6/site-packages/matplotlib/__init__.py:962: UserWarning: Duplicate key in file \"/home/ec2-user/.config/matplotlib/matplotlibrc\", line #2\n",
      "  (fname, cnt))\n",
      "/home/ec2-user/anaconda3/envs/pytorch_p36/lib/python3.6/site-packages/matplotlib/__init__.py:962: UserWarning: Duplicate key in file \"/home/ec2-user/.config/matplotlib/matplotlibrc\", line #3\n",
      "  (fname, cnt))\n"
     ]
    }
   ],
   "source": [
    "from functools import reduce\n",
    "from dask import delayed\n",
    "import pandas as pd\n",
    "import fastparquet\n",
    "import distributed\n",
    "import dask\n",
    "import json\n",
    "import gzip\n",
    "import os"
   ]
  },
  {
   "cell_type": "code",
   "execution_count": 2,
   "metadata": {
    "scrolled": false
   },
   "outputs": [
    {
     "data": {
      "application/vnd.jupyter.widget-view+json": {
       "model_id": "439c1045221748c894165d9febfd60ab",
       "version_major": 2,
       "version_minor": 0
      },
      "text/html": [
       "<p>Failed to display Jupyter Widget of type <code>VBox</code>.</p>\n",
       "<p>\n",
       "  If you're reading this message in the Jupyter Notebook or JupyterLab Notebook, it may mean\n",
       "  that the widgets JavaScript is still loading. If this message persists, it\n",
       "  likely means that the widgets JavaScript library is either not installed or\n",
       "  not enabled. See the <a href=\"https://ipywidgets.readthedocs.io/en/stable/user_install.html\">Jupyter\n",
       "  Widgets Documentation</a> for setup instructions.\n",
       "</p>\n",
       "<p>\n",
       "  If you're reading this message in another frontend (for example, a static\n",
       "  rendering on GitHub or <a href=\"https://nbviewer.jupyter.org/\">NBViewer</a>),\n",
       "  it may mean that your frontend doesn't currently support widgets.\n",
       "</p>\n"
      ],
      "text/plain": [
       "VBox(children=(HTML(value='<h2>LocalCluster</h2>'), HBox(children=(HTML(value='\\n<div>\\n  <style scoped>\\n    .dataframe tbody tr th:only-of-type {\\n        vertical-align: middle;\\n    }\\n\\n    .dataframe tbody tr th {\\n        vertical-align: top;\\n    }\\n\\n    .dataframe thead th {\\n        text-align: right;\\n    }\\n  </style>\\n  <table style=\"text-align: right;\">\\n    <tr><th>Workers</th> <td>72</td></tr>\\n    <tr><th>Cores</th> <td>72</td></tr>\\n    <tr><th>Memory</th> <td>147.62 GB</td></tr>\\n  </table>\\n</div>\\n', layout=Layout(min_width='150px')), Accordion(children=(HBox(children=(IntText(value=0, description='Workers', layout=Layout(width='150px')), Button(description='Scale', layout=Layout(width='150px'), style=ButtonStyle()))), HBox(children=(IntText(value=0, description='Minimum', layout=Layout(width='150px')), IntText(value=0, description='Maximum', layout=Layout(width='150px')), Button(description='Adapt', layout=Layout(width='150px'), style=ButtonStyle())))), layout=Layout(min_width='500px'), selected_index=None, _titles={'0': 'Manual Scaling', '1': 'Adaptive Scaling'}))), HTML(value='<p><b>Dashboard: </b><a href=\"http://127.0.0.1:8787/status\" target=\"_blank\">http://127.0.0.1:8787/status</a></p>\\n')))"
      ]
     },
     "metadata": {},
     "output_type": "display_data"
    }
   ],
   "source": [
    "cluster = distributed.LocalCluster()\n",
    "client = distributed.Client(cluster)\n",
    "cluster"
   ]
  },
  {
   "cell_type": "code",
   "execution_count": 3,
   "metadata": {},
   "outputs": [
    {
     "data": {
      "text/html": [
       "<table style=\"border: 2px solid white;\">\n",
       "<tr>\n",
       "<td style=\"vertical-align: top; border: 0px solid white\">\n",
       "<h3>Client</h3>\n",
       "<ul>\n",
       "  <li><b>Scheduler: </b>tcp://127.0.0.1:43377\n",
       "  <li><b>Dashboard: </b><a href='http://127.0.0.1:8787/status' target='_blank'>http://127.0.0.1:8787/status</a>\n",
       "</ul>\n",
       "</td>\n",
       "<td style=\"vertical-align: top; border: 0px solid white\">\n",
       "<h3>Cluster</h3>\n",
       "<ul>\n",
       "  <li><b>Workers: </b>72</li>\n",
       "  <li><b>Cores: </b>72</li>\n",
       "  <li><b>Memory: </b>147.62 GB</li>\n",
       "</ul>\n",
       "</td>\n",
       "</tr>\n",
       "</table>"
      ],
      "text/plain": [
       "<Client: scheduler='tcp://127.0.0.1:43377' processes=72 cores=72>"
      ]
     },
     "execution_count": 3,
     "metadata": {},
     "output_type": "execute_result"
    }
   ],
   "source": [
    "client"
   ]
  },
  {
   "cell_type": "code",
   "execution_count": 4,
   "metadata": {},
   "outputs": [],
   "source": [
    "OUTPUT_DIRECTORY = '/home/ec2-user//data'"
   ]
  },
  {
   "cell_type": "code",
   "execution_count": 5,
   "metadata": {},
   "outputs": [],
   "source": [
    "def batch(l, n):\n",
    "    return [list(l[i:i+n]) for i in range(0, len(l), n)]\n",
    "\n",
    "def read_json_gz(path):\n",
    "    return json.load(gzip.GzipFile(path))\n",
    "\n",
    "def get_pairs(path):\n",
    "    if type(path) == list:\n",
    "        return reduce(lambda a, b: a.union(get_pairs(b)), list(path), set())\n",
    "    return set(read_json_gz(path).keys())\n",
    "\n",
    "def get_orderbooks(paths):\n",
    "    def __get_orderbook__(orderbooks):\n",
    "        if 'ask' in orderbooks and 'bid' in orderbooks:\n",
    "            asks = (orderbooks['ask'] + 10 * [{'price': 0.0, 'size': 0.0}])[:10]\n",
    "            bids = (orderbooks['bid'] + 10 * [{'price': 0.0, 'size': 0.0}])[:10]\n",
    "            return pd.DataFrame({'askprice': pd.to_numeric([d['price'] for d in asks]),\n",
    "                                 'asksize': pd.to_numeric([d['size'] for d in asks]),\n",
    "                                 'bidprice': pd.to_numeric([d['price'] for d in bids]),\n",
    "                                 'bidsize': pd.to_numeric([d['size'] for d in bids])})\n",
    "        return pd.DataFrame({'askprice': [], 'asksize': [], 'bidprice': [], 'bidsize': []})\n",
    "\n",
    "    def __get_orderbooks__(path):\n",
    "        doc = read_json_gz(path)\n",
    "        date = int(path.split('/')[-2].replace('-', ''))\n",
    "        name = int(''.join(path.split('/')[-2:]).replace('-', '').split('.')[0])\n",
    "        dfs = [__get_orderbook__(doc[pair]['orderbook']).assign(pair=pair.replace('/', '-')).assign(time=name).assign(date=date)\n",
    "               for pair in list(doc.keys())]\n",
    "        df = pd.concat(dfs)\n",
    "        return df\n",
    "    \n",
    "    df = pd.concat([__get_orderbooks__(p) for p in paths]).reset_index().drop('index', axis=1)\n",
    "    fastparquet.write(f'{OUTPUT_DIRECTORY}/orderbooks.parquet',\n",
    "                      df, compression='snappy', file_scheme='hive',\n",
    "                      partition_on=['pair', 'date'], write_index=False)\n",
    "\n",
    "def get_trades(paths, write=True):\n",
    "    def __get_trade_df__(trades):\n",
    "        df = pd.DataFrame(trades)\n",
    "        df['id'] = df['id'].astype(int)\n",
    "        df['price'] = df['price'].astype(float)\n",
    "        df['quantity'] = df['quantity'].astype(float)\n",
    "        df['buy'] = df['side'] == 'buy'\n",
    "        df['timestamp'] = pd.to_datetime(df['timestamp'])\n",
    "        del df['side']\n",
    "        return df\n",
    "        \n",
    "    def __get_trades__(path):\n",
    "        doc = read_json_gz(path)\n",
    "        date = int(path.split('/')[-2].replace('-', ''))\n",
    "        name = int(''.join(path.split('/')[-2:]).replace('-', '').split('.')[0])\n",
    "        pairs_no_error = [p for p in list(doc.keys()) if 'error' not in doc.get(p, {}).get('trades', {})]\n",
    "        pairs_with_data = [p for p in pairs_no_error if len(doc.get(p, {}).get('trades', [])) > 0]\n",
    "        dfs = [__get_trade_df__(doc[pair]['trades']).assign(pair=pair.replace('/', '-')).assign(time=name).assign(date=date)\n",
    "               for pair in pairs_with_data]\n",
    "        if dfs:\n",
    "            return pd.concat(dfs)\n",
    "    \n",
    "    trade_dfs = [__get_trades__(p) for p in paths]\n",
    "    if trade_dfs:\n",
    "        df = pd.concat(trade_dfs).reset_index().drop('index', axis=1).drop_duplicates('id')\n",
    "        if write:\n",
    "            fastparquet.write(f'{OUTPUT_DIRECTORY}/trades.parquet',\n",
    "                              df, compression='snappy', file_scheme='hive',\n",
    "                              partition_on=['pair', 'date'], write_index=False)\n",
    "        else:\n",
    "            return df\n",
    "\n"
   ]
  },
  {
   "cell_type": "code",
   "execution_count": null,
   "metadata": {},
   "outputs": [],
   "source": []
  },
  {
   "cell_type": "code",
   "execution_count": null,
   "metadata": {},
   "outputs": [],
   "source": []
  },
  {
   "cell_type": "code",
   "execution_count": null,
   "metadata": {},
   "outputs": [],
   "source": []
  },
  {
   "cell_type": "code",
   "execution_count": null,
   "metadata": {},
   "outputs": [],
   "source": []
  },
  {
   "cell_type": "code",
   "execution_count": null,
   "metadata": {},
   "outputs": [],
   "source": []
  },
  {
   "cell_type": "code",
   "execution_count": null,
   "metadata": {},
   "outputs": [],
   "source": []
  },
  {
   "cell_type": "code",
   "execution_count": 37,
   "metadata": {},
   "outputs": [],
   "source": [
    "df = __get_trades__(paths_by_date[4][5])"
   ]
  },
  {
   "cell_type": "code",
   "execution_count": null,
   "metadata": {},
   "outputs": [],
   "source": []
  },
  {
   "cell_type": "code",
   "execution_count": 6,
   "metadata": {},
   "outputs": [],
   "source": [
    "data_paths = !find /home/ec2-user/hitbtc/ | grep json\n",
    "paths_df = pd.DataFrame(data_paths, columns=['path'])\n",
    "paths_df['directory'] = paths_df['path'].apply(lambda x: os.path.dirname(x))\n",
    "paths_df['filename'] = paths_df['path'].apply(lambda x: os.path.basename(x))\n",
    "paths_by_date = [list(df.path.values) for _, df in paths_df.groupby('directory')][13:]"
   ]
  },
  {
   "cell_type": "code",
   "execution_count": null,
   "metadata": {},
   "outputs": [],
   "source": []
  },
  {
   "cell_type": "code",
   "execution_count": 10,
   "metadata": {
    "scrolled": true
   },
   "outputs": [
    {
     "data": {
      "application/vnd.jupyter.widget-view+json": {
       "model_id": "2d31dbfaab3c4d6f9276b54ec0c1f931",
       "version_major": 2,
       "version_minor": 0
      },
      "text/plain": [
       "VBox()"
      ]
     },
     "metadata": {},
     "output_type": "display_data"
    }
   ],
   "source": [
    "### orderbooks\n",
    "tasks = [delayed(get_orderbooks)(paths) for paths in paths_by_date]\n",
    "futures = client.compute(tasks)\n",
    "distributed.progress(futures)"
   ]
  },
  {
   "cell_type": "code",
   "execution_count": 7,
   "metadata": {},
   "outputs": [
    {
     "name": "stdout",
     "output_type": "stream",
     "text": [
      "[########################################] | 100% Completed |  8min 57.9s"
     ]
    }
   ],
   "source": [
    "### trades\n",
    "tasks = [delayed(get_trades)(paths) for paths in paths_by_date]\n",
    "futures = client.compute(tasks)\n",
    "distributed.progress(futures, notebook=False)"
   ]
  },
  {
   "cell_type": "code",
   "execution_count": 8,
   "metadata": {},
   "outputs": [
    {
     "data": {
      "text/plain": [
       "1"
      ]
     },
     "execution_count": 8,
     "metadata": {},
     "output_type": "execute_result"
    }
   ],
   "source": [
    "1"
   ]
  },
  {
   "cell_type": "code",
   "execution_count": null,
   "metadata": {},
   "outputs": [],
   "source": []
  }
 ],
 "metadata": {
  "kernelspec": {
   "display_name": "Environment (conda_pytorch_p36)",
   "language": "python",
   "name": "conda_pytorch_p36"
  },
  "language_info": {
   "codemirror_mode": {
    "name": "ipython",
    "version": 3
   },
   "file_extension": ".py",
   "mimetype": "text/x-python",
   "name": "python",
   "nbconvert_exporter": "python",
   "pygments_lexer": "ipython3",
   "version": "3.6.4"
  }
 },
 "nbformat": 4,
 "nbformat_minor": 2
}
